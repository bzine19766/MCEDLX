{
 "cells": [
  {
   "cell_type": "code",
   "execution_count": 14,
   "metadata": {},
   "outputs": [],
   "source": [
    "import networkx as nx\n",
    "import matplotlib.pyplot as plt"
   ]
  },
  {
   "cell_type": "code",
   "execution_count": 15,
   "metadata": {},
   "outputs": [],
   "source": [
    "m=13\n",
    "n=2**m-1\n",
    "Gm=[i for i in range(1,n)]"
   ]
  },
  {
   "cell_type": "markdown",
   "metadata": {},
   "source": [
    "Gm"
   ]
  },
  {
   "cell_type": "code",
   "execution_count": 16,
   "metadata": {},
   "outputs": [
    {
     "data": {
      "text/plain": [
       "8190"
      ]
     },
     "execution_count": 16,
     "metadata": {},
     "output_type": "execute_result"
    }
   ],
   "source": [
    "len(Gm)"
   ]
  },
  {
   "cell_type": "code",
   "execution_count": 17,
   "metadata": {},
   "outputs": [],
   "source": [
    "z=[(e,list(filter(lambda x: (x &e ==0) and (e > x) , Gm))) for e in Gm]"
   ]
  },
  {
   "cell_type": "code",
   "execution_count": 18,
   "metadata": {},
   "outputs": [],
   "source": [
    "E=[]\n",
    "for i in z :\n",
    "    a,b=i\n",
    "    for j in b :\n",
    "        E.append((a,j))"
   ]
  },
  {
   "cell_type": "code",
   "execution_count": 19,
   "metadata": {},
   "outputs": [],
   "source": [
    "G = nx.Graph()"
   ]
  },
  {
   "cell_type": "code",
   "execution_count": 20,
   "metadata": {},
   "outputs": [],
   "source": [
    "G.add_nodes_from(Gm)"
   ]
  },
  {
   "cell_type": "code",
   "execution_count": 21,
   "metadata": {},
   "outputs": [],
   "source": [
    "G.add_edges_from(E)"
   ]
  },
  {
   "cell_type": "code",
   "execution_count": 22,
   "metadata": {},
   "outputs": [
    {
     "name": "stdout",
     "output_type": "stream",
     "text": [
      "The number of edges in G = 788970\n"
     ]
    }
   ],
   "source": [
    "print(\"The number of edges in G =\", len(E))"
   ]
  },
  {
   "cell_type": "markdown",
   "metadata": {},
   "source": [
    "nx.draw_shell(G,node_color='lightblue',node_size =1000,with_labels = True)\n"
   ]
  },
  {
   "cell_type": "code",
   "execution_count": 23,
   "metadata": {},
   "outputs": [],
   "source": [
    "def maximise(cand):\n",
    "       if cand !=set([]):\n",
    "                l=list(cand)\n",
    "                max=cand.intersection(set(G.adj[l[0]]))\n",
    "                imax=l[0]\n",
    "                for e in l:\n",
    "                        x=cand.intersection(set(G.adj[e]))\n",
    "                        if len(x) > len(max):\n",
    "                            \n",
    "                            max=x\n",
    "                            imax=e\n",
    "       return imax\n"
   ]
  },
  {
   "cell_type": "code",
   "execution_count": 24,
   "metadata": {},
   "outputs": [],
   "source": [
    "def expand(subg,cand,Q1,l):\n",
    "      if subg==set([]) :\n",
    "             l.append(Q1)\n",
    "             #print(Q1)\n",
    "             #print(\"clique\")\n",
    "      else :\n",
    "             if cand!=set([]) :\n",
    "                  u=maximise(cand)\n",
    "                  while (cand.difference(set(G.adj[u])))!= set([]):\n",
    "                         m=cand.difference(set(G.adj[u]))\n",
    "                         for q in m :\n",
    "                                #print(q,\",\")\n",
    "                                Q1=Q1.union(set([q]))\n",
    "                                subgq=subg.intersection(set(G.adj[q]))\n",
    "                                candq=cand.intersection(set(G.adj[q]))\n",
    "                                expand(subgq,candq,Q1,l)\n",
    "                                cand= cand.difference(set([q]))\n",
    "                                #print('back')\n",
    "                                Q1=Q1.difference(set([q]))\n",
    "      return l\n",
    "      "
   ]
  },
  {
   "cell_type": "code",
   "execution_count": 25,
   "metadata": {},
   "outputs": [
    {
     "name": "stdout",
     "output_type": "stream",
     "text": [
      " number of clique = 27644436\n"
     ]
    }
   ],
   "source": [
    "#number of clique with Mathematics\n",
    "from sympy import bell, Symbol, symbols\n",
    "NC=bell(m)-1\n",
    "print(\" number of clique =\",NC)"
   ]
  },
  {
   "cell_type": "code",
   "execution_count": 26,
   "metadata": {},
   "outputs": [
    {
     "ename": "KeyboardInterrupt",
     "evalue": "",
     "output_type": "error",
     "traceback": [
      "\u001b[1;31m---------------------------------------------------------------------------\u001b[0m",
      "\u001b[1;31mKeyboardInterrupt\u001b[0m                         Traceback (most recent call last)",
      "File \u001b[1;32m<timed exec>:4\u001b[0m\n",
      "Cell \u001b[1;32mIn[24], line 16\u001b[0m, in \u001b[0;36mexpand\u001b[1;34m(subg, cand, Q1, l)\u001b[0m\n\u001b[0;32m     14\u001b[0m subgq\u001b[38;5;241m=\u001b[39msubg\u001b[38;5;241m.\u001b[39mintersection(\u001b[38;5;28mset\u001b[39m(G\u001b[38;5;241m.\u001b[39madj[q]))\n\u001b[0;32m     15\u001b[0m candq\u001b[38;5;241m=\u001b[39mcand\u001b[38;5;241m.\u001b[39mintersection(\u001b[38;5;28mset\u001b[39m(G\u001b[38;5;241m.\u001b[39madj[q]))\n\u001b[1;32m---> 16\u001b[0m expand(subgq,candq,Q1,l)\n\u001b[0;32m     17\u001b[0m cand\u001b[38;5;241m=\u001b[39m cand\u001b[38;5;241m.\u001b[39mdifference(\u001b[38;5;28mset\u001b[39m([q]))\n\u001b[0;32m     18\u001b[0m \u001b[38;5;66;03m#print('back')\u001b[39;00m\n",
      "Cell \u001b[1;32mIn[24], line 16\u001b[0m, in \u001b[0;36mexpand\u001b[1;34m(subg, cand, Q1, l)\u001b[0m\n\u001b[0;32m     14\u001b[0m subgq\u001b[38;5;241m=\u001b[39msubg\u001b[38;5;241m.\u001b[39mintersection(\u001b[38;5;28mset\u001b[39m(G\u001b[38;5;241m.\u001b[39madj[q]))\n\u001b[0;32m     15\u001b[0m candq\u001b[38;5;241m=\u001b[39mcand\u001b[38;5;241m.\u001b[39mintersection(\u001b[38;5;28mset\u001b[39m(G\u001b[38;5;241m.\u001b[39madj[q]))\n\u001b[1;32m---> 16\u001b[0m expand(subgq,candq,Q1,l)\n\u001b[0;32m     17\u001b[0m cand\u001b[38;5;241m=\u001b[39m cand\u001b[38;5;241m.\u001b[39mdifference(\u001b[38;5;28mset\u001b[39m([q]))\n\u001b[0;32m     18\u001b[0m \u001b[38;5;66;03m#print('back')\u001b[39;00m\n",
      "    \u001b[1;31m[... skipping similar frames: expand at line 16 (2 times)]\u001b[0m\n",
      "Cell \u001b[1;32mIn[24], line 16\u001b[0m, in \u001b[0;36mexpand\u001b[1;34m(subg, cand, Q1, l)\u001b[0m\n\u001b[0;32m     14\u001b[0m subgq\u001b[38;5;241m=\u001b[39msubg\u001b[38;5;241m.\u001b[39mintersection(\u001b[38;5;28mset\u001b[39m(G\u001b[38;5;241m.\u001b[39madj[q]))\n\u001b[0;32m     15\u001b[0m candq\u001b[38;5;241m=\u001b[39mcand\u001b[38;5;241m.\u001b[39mintersection(\u001b[38;5;28mset\u001b[39m(G\u001b[38;5;241m.\u001b[39madj[q]))\n\u001b[1;32m---> 16\u001b[0m expand(subgq,candq,Q1,l)\n\u001b[0;32m     17\u001b[0m cand\u001b[38;5;241m=\u001b[39m cand\u001b[38;5;241m.\u001b[39mdifference(\u001b[38;5;28mset\u001b[39m([q]))\n\u001b[0;32m     18\u001b[0m \u001b[38;5;66;03m#print('back')\u001b[39;00m\n",
      "Cell \u001b[1;32mIn[24], line 9\u001b[0m, in \u001b[0;36mexpand\u001b[1;34m(subg, cand, Q1, l)\u001b[0m\n\u001b[0;32m      7\u001b[0m \u001b[38;5;28;01mif\u001b[39;00m cand\u001b[38;5;241m!=\u001b[39m\u001b[38;5;28mset\u001b[39m([]) :\n\u001b[0;32m      8\u001b[0m      u\u001b[38;5;241m=\u001b[39mmaximise(cand)\n\u001b[1;32m----> 9\u001b[0m      \u001b[38;5;28;01mwhile\u001b[39;00m (cand\u001b[38;5;241m.\u001b[39mdifference(\u001b[38;5;28mset\u001b[39m(G\u001b[38;5;241m.\u001b[39madj[u])))\u001b[38;5;241m!=\u001b[39m \u001b[38;5;28mset\u001b[39m([]):\n\u001b[0;32m     10\u001b[0m             m\u001b[38;5;241m=\u001b[39mcand\u001b[38;5;241m.\u001b[39mdifference(\u001b[38;5;28mset\u001b[39m(G\u001b[38;5;241m.\u001b[39madj[u]))\n\u001b[0;32m     11\u001b[0m             \u001b[38;5;28;01mfor\u001b[39;00m q \u001b[38;5;129;01min\u001b[39;00m m :\n\u001b[0;32m     12\u001b[0m                    \u001b[38;5;66;03m#print(q,\",\")\u001b[39;00m\n",
      "\u001b[1;31mKeyboardInterrupt\u001b[0m: "
     ]
    }
   ],
   "source": [
    "%%time\n",
    "#number of clique and the list of cliques with programming\n",
    "N=set(G.nodes)\n",
    "Q1=set([])\n",
    "j=expand(N,N,Q1,[])\n",
    "print(\"number of clique =\",len(j))\n",
    "#print(j)"
   ]
  },
  {
   "cell_type": "code",
   "execution_count": null,
   "metadata": {},
   "outputs": [],
   "source": []
  },
  {
   "cell_type": "code",
   "execution_count": null,
   "metadata": {},
   "outputs": [],
   "source": []
  }
 ],
 "metadata": {
  "kernelspec": {
   "display_name": "Python 3 (ipykernel)",
   "language": "python",
   "name": "python3"
  },
  "language_info": {
   "codemirror_mode": {
    "name": "ipython",
    "version": 3
   },
   "file_extension": ".py",
   "mimetype": "text/x-python",
   "name": "python",
   "nbconvert_exporter": "python",
   "pygments_lexer": "ipython3",
   "version": "3.12.7"
  }
 },
 "nbformat": 4,
 "nbformat_minor": 4
}
